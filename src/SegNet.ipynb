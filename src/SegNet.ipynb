{
 "cells": [
  {
   "cell_type": "code",
   "execution_count": 1,
   "metadata": {
    "ExecuteTime": {
     "end_time": "2017-12-16T17:42:29.705252Z",
     "start_time": "2017-12-16T17:42:26.065604Z"
    }
   },
   "outputs": [
    {
     "name": "stderr",
     "output_type": "stream",
     "text": [
      "Using TensorFlow backend.\n"
     ]
    }
   ],
   "source": [
    "import tensorflow as tf\n",
    "from skimage.io import imread\n",
    "import matplotlib.pyplot as plt\n",
    "import numpy as np\n",
    "import Utils\n",
    "import os\n",
    "import keras\n",
    "from time import gmtime, strftime\n",
    "%matplotlib inline"
   ]
  },
  {
   "cell_type": "code",
   "execution_count": 2,
   "metadata": {
    "ExecuteTime": {
     "end_time": "2017-12-16T17:42:32.302059Z",
     "start_time": "2017-12-16T17:42:30.516991Z"
    },
    "code_folding": []
   },
   "outputs": [],
   "source": [
    "number_of_classes = 12\n",
    "batch_size = 2\n",
    "input_shape = (batch_size, 352, 480, 3)\n",
    "label_shape = (batch_size, 352, 480, number_of_classes)\n",
    "dropout_prob = 0.5\n",
    "strides = (1,1,1,1)\n",
    "padding = 'SAME'\n",
    "max_pooling_ksize = (1,2,2,1)\n",
    "learning_rate = 0.0001\n",
    "num_epochs = 125\n",
    "\n",
    "baysian_segnet_path = os.path.join('..','saved_models',\"baysian_segnet_no_mfb\",\"baysian_segnet_model.ckpt\")\n",
    "segnet_path = os.path.join('..','saved_models',\"segnet_no_mfb\",\"segnet_model.ckpt\")\n",
    "\n",
    "train_data_path = os.path.join(\"..\",\"Data\", \"CamVid\",\"train\")\n",
    "test_data_path = os.path.join(\"..\",\"Data\", \"CamVid\",\"test\")\n",
    "train_anno_path = os.path.join(\"..\",\"Data\", \"CamVid\",\"trainannot\")\n",
    "test_anno_path = os.path.join(\"..\",\"Data\", \"CamVid\",\"testannot\")\n",
    "\n",
    "class SegNet:\n",
    "    \n",
    "    \n",
    "    def __init__(self, load_model=False, baysian=False, use_mfb=True):\n",
    "        self.baysian= baysian\n",
    "        \n",
    "        tf.reset_default_graph()\n",
    "        self.build_model()\n",
    "        if load_model:\n",
    "            self.load_model()\n",
    "        else:\n",
    "            self.train_model(use_mfb=use_mfb)\n",
    "            \n",
    "    \n",
    "    def load_model(self):\n",
    "        self.sess = tf.Session()\n",
    "        \n",
    "        if self.baysian:\n",
    "            saver = tf.train.Saver()\n",
    "            saver.restore(self.sess, baysian_segnet_path)\n",
    "        else:\n",
    "            saver = tf.train.Saver()\n",
    "            saver.restore(self.sess, segnet_path)\n",
    "         \n",
    "    \n",
    "    def feed_forward(self, images):\n",
    "        assert np.shape(images) == input_shape\n",
    "        return self.sess.run(self.prediction, feed_dict={self.images: images})\n",
    "        \n",
    "    \n",
    "    def predict(self, images):\n",
    "        assert np.shape(images) == input_shape\n",
    "        \n",
    "        if self.baysian:\n",
    "            predictions = []\n",
    "            for i in range(50):\n",
    "                predictions.append(self.feed_forward(images))\n",
    "            \n",
    "            return np.mean(predictions, axis=0), np.var(predictions, axis=0)\n",
    "            \n",
    "        else:\n",
    "            return self.feed_forward(images)\n",
    "        \n",
    "    def build_model(self):\n",
    "        self.images=tf.placeholder(dtype=tf.float32,shape=input_shape)\n",
    "        self.labels_im=tf.placeholder(dtype=tf.float32,shape=label_shape)\n",
    "        \n",
    "        self.scaling_vector = tf.placeholder(dtype=tf.float32, shape=[number_of_classes])\n",
    "        \n",
    "        vgg16 = keras.applications.VGG16(include_top=False,weights='imagenet')\n",
    "        vgg16_graph = keras.backend.get_session().graph\n",
    "        w_1_1 = vgg16_graph.get_tensor_by_name('block1_conv1/kernel:0')\n",
    "        b_1_1 = vgg16_graph.get_tensor_by_name('block1_conv1/bias:0')\n",
    "        w_1_2 = vgg16_graph.get_tensor_by_name('block1_conv2/kernel:0')\n",
    "        b_1_2 = vgg16_graph.get_tensor_by_name('block1_conv2/bias:0')\n",
    "\n",
    "        w_2_1 = vgg16_graph.get_tensor_by_name('block2_conv1/kernel:0')\n",
    "        b_2_1 = vgg16_graph.get_tensor_by_name('block2_conv1/bias:0')\n",
    "        w_2_2 = vgg16_graph.get_tensor_by_name('block2_conv2/kernel:0')\n",
    "        b_2_2 = vgg16_graph.get_tensor_by_name('block2_conv2/bias:0')\n",
    "\n",
    "        w_3_1 = vgg16_graph.get_tensor_by_name('block3_conv1/kernel:0')\n",
    "        b_3_1 = vgg16_graph.get_tensor_by_name('block3_conv1/bias:0')\n",
    "        w_3_2 = vgg16_graph.get_tensor_by_name('block3_conv2/kernel:0')\n",
    "        b_3_2 = vgg16_graph.get_tensor_by_name('block3_conv2/bias:0')\n",
    "        w_3_3 = vgg16_graph.get_tensor_by_name('block3_conv3/kernel:0')\n",
    "        b_3_3 = vgg16_graph.get_tensor_by_name('block3_conv3/bias:0')\n",
    "\n",
    "        w_4_1 = vgg16_graph.get_tensor_by_name('block4_conv1/kernel:0')\n",
    "        b_4_1 = vgg16_graph.get_tensor_by_name('block4_conv1/bias:0')\n",
    "        w_4_2 = vgg16_graph.get_tensor_by_name('block4_conv2/kernel:0')\n",
    "        b_4_2 = vgg16_graph.get_tensor_by_name('block4_conv2/bias:0')\n",
    "        w_4_3 = vgg16_graph.get_tensor_by_name('block4_conv3/kernel:0')\n",
    "        b_4_3 = vgg16_graph.get_tensor_by_name('block4_conv3/bias:0')\n",
    "\n",
    "        w_5_1 = vgg16_graph.get_tensor_by_name('block5_conv1/kernel:0')\n",
    "        b_5_1 = vgg16_graph.get_tensor_by_name('block5_conv1/bias:0')\n",
    "        w_5_2 = vgg16_graph.get_tensor_by_name('block5_conv2/kernel:0')\n",
    "        b_5_2 = vgg16_graph.get_tensor_by_name('block5_conv2/bias:0')\n",
    "        w_5_3 = vgg16_graph.get_tensor_by_name('block5_conv3/kernel:0')\n",
    "        b_5_3 = vgg16_graph.get_tensor_by_name('block5_conv3/bias:0')\n",
    "        \n",
    "        max_pooling_1, indicies_1 = self.encoding_layer(self.images, w_1_1, w_1_2, b_1_1, b_1_2, conv_stride=strides, name=\"Encoding_layer_1\")\n",
    "\n",
    "        max_pooling_2, indicies_2 = self.encoding_layer(max_pooling_1, w_2_1, w_2_2, b_2_1, b_2_2, conv_stride=strides, name=\"Encoding_layer_2\")\n",
    "        max_pooling_3, indicies_3 = self.encoding_layer(max_pooling_2, w_3_1, w_3_2, b_3_1, b_3_2, conv_stride=strides, name=\"Encoding_layer_3\", filter3=w_3_3, bias3=b_3_3, dropout=self.baysian)\n",
    "        max_pooling_4, indicies_4 = self.encoding_layer(max_pooling_3, w_4_1, w_4_2, b_4_1, b_4_2, conv_stride=strides, name=\"Encoding_layer_4\", filter3=w_4_3, bias3=b_4_3, dropout=self.baysian)\n",
    "        max_pooling_5, indicies_5 = self.encoding_layer(max_pooling_4, w_5_1, w_5_2, b_5_1, b_5_2, conv_stride=strides, name=\"Encoding_layer_5\", filter3=w_5_3, bias3=b_5_3, dropout=self.baysian)\n",
    "\n",
    "        deconv_1 = self.decoding_layer(max_pooling_5, indicies_5, w_5_1.shape[2].value, w_5_2.shape[2].value, name= \"Decoding_layer_1\", filter3_shape=w_5_3.shape[2].value, dropout=self.baysian)\n",
    "        deconv_2 = self.decoding_layer(deconv_1, indicies_4, w_4_1.shape[2].value, w_4_2.shape[2].value, name= \"Decoding_layer_2\", filter3_shape=w_4_3.shape[2].value, dropout=self.baysian)\n",
    "        deconv_3 = self.decoding_layer(deconv_2, indicies_3, w_3_1.shape[2].value, w_3_2.shape[2].value, name= \"Decoding_layer_3\", filter3_shape=w_3_3.shape[2].value, dropout=self.baysian)\n",
    "        deconv_4 = self.decoding_layer(deconv_3, indicies_2, w_2_1.shape[2].value, w_2_2.shape[2].value, name= \"Decoding_layer_4\")\n",
    "        deconv_5 = self.decoding_layer(deconv_4, indicies_1, number_of_classes, w_1_2.shape[2].value, name= \"Decoding_layer_5\")\n",
    "\n",
    "        out = tf.nn.softmax(deconv_5) # (batch_size, width, height, num_classes)\n",
    "        weights = tf.multiply(self.labels_im, self.scaling_vector)\n",
    "        weights = tf.reduce_sum(weights, 3)\n",
    "        self.loss = tf.losses.softmax_cross_entropy(onehot_labels=self.labels_im, logits=deconv_5, weights=weights)\n",
    "        \n",
    "        #self.loss = tf.reduce_mean(tf.nn.softmax_cross_entropy_with_logits(logits=scaled_out, labels=scaled_labels))\n",
    "        self.train_step = tf.train.AdamOptimizer(learning_rate).minimize(self.loss)\n",
    "        self.prediction = tf.argmax(out,-1)\n",
    "        correctPred = tf.equal(self.prediction, tf.argmax(self.labels_im,-1))\n",
    "        self.accuracy = tf.reduce_mean(tf.cast(correctPred, tf.float32))\n",
    "    \n",
    "    def train_model(self, model_is_loaded=False, use_mfb=True):\n",
    "        train_accu = tf.summary.scalar(\"train_accu\", self.accuracy)\n",
    "        train_loss = tf.summary.scalar(\"train_loss\", self.loss)\n",
    "        train_summ = tf.summary.merge((train_accu, train_loss))\n",
    "        \n",
    "        if not model_is_loaded:\n",
    "            init = tf.global_variables_initializer()\n",
    "            self.sess = tf.Session()\n",
    "            self.sess.run(init)\n",
    "            \n",
    "        if self.baysian:\n",
    "            logdir = os.path.join(\"tensorboard_logs\",\"Baysian_SegNet\"+strftime(\"_%Y-%m-%d\", gmtime()))\n",
    "        else:\n",
    "            logdir = os.path.join(\"tensorboard_logs\",\"SegNet\"+strftime(\"_%Y-%m-%d\", gmtime()))\n",
    "        writer = tf.summary.FileWriter(logdir)\n",
    "        writer.add_graph(self.sess.graph)\n",
    "        saver = tf.train.Saver()\n",
    "        \n",
    "        train_images = np.asarray(Utils.load_images(train_data_path))\n",
    "        test_images = np.asarray(Utils.load_images(test_data_path))\n",
    "        \n",
    "        train_annotations = np.asarray(Utils.load_annotations(train_anno_path))\n",
    "        test_annotations = np.asarray(Utils.load_annotations(test_anno_path))\n",
    "        \n",
    "        shuffler = np.arange(len(train_images))\n",
    "        np.random.shuffle(shuffler)\n",
    "        train_images = train_images[shuffler]\n",
    "        train_annotations = train_annotations[shuffler]\n",
    "        \n",
    "        training_bp = Utils.BatchProcessor()\n",
    "        test_bp = Utils.BatchProcessor()\n",
    "        \n",
    "        if use_mfb:\n",
    "            train_scaling_vector = Utils.get_class_balance_vector(train_anno_path)\n",
    "        else:\n",
    "            train_scaling_vector = [1, 1, 1, 1, 1, 1, 1, 1, 1, 1, 1, 0]\n",
    "        \n",
    "        for i in range(int(num_epochs*len(train_images) / batch_size)):\n",
    "            batch_X, batch_y = training_bp.get_next_batch(train_images, train_annotations, batch_size)\n",
    "\n",
    "            self.sess.run(self.train_step,feed_dict={self.images: batch_X,self.labels_im: batch_y, self.scaling_vector: train_scaling_vector})\n",
    "\n",
    "            if i % 100 == 0:\n",
    "                accus = []\n",
    "                losss = []\n",
    "                for j in range(int(len(test_images)/batch_size)):\n",
    "                    test_batch_x, test_batch_y = test_bp.get_next_batch(test_images, test_annotations, batch_size)\n",
    "                    loss_o, accu_o = self.sess.run([self.loss,self.accuracy],feed_dict={self.images: test_batch_x,self.labels_im: test_batch_y, self.scaling_vector: train_scaling_vector})\n",
    "                    accus.append(accu_o)\n",
    "                    losss.append(loss_o)\n",
    "                train_summary = self.sess.run(train_summ,feed_dict={self.images: batch_X,self.labels_im: batch_y, self.scaling_vector: train_scaling_vector})\n",
    "                writer.add_summary(train_summary, i+10000)\n",
    "\n",
    "                test_sum = tf.Summary()\n",
    "                test_sum.value.add(tag=\"TestAccuracy\", simple_value =np.mean(accus))\n",
    "                writer.add_summary(test_sum, i+10000)\n",
    "                print(\"{2}/{3} Test accu: {0}, test loss: {1}\".format(np.mean(accus), np.mean(losss), i, int(num_epochs*len(train_images) / batch_size)))\n",
    "\n",
    "            if i % 1000 == 0 and i!=0:\n",
    "                if self.baysian:\n",
    "                    save_path = saver.save(self.sess, baysian_segnet_path)\n",
    "                else:\n",
    "                    save_path = saver.save(self.sess, segnet_path)\n",
    "                \n",
    "                print(\"Model saved to: %s\" % save_path)\n",
    "\n",
    "        \n",
    "    def encoding_layer(self, input, filter1, filter2, bias1, bias2, conv_stride, name=None, filter3=None, bias3=None, max_pool_stride = (1,2,2,1), dropout=False):\n",
    "        with tf.name_scope(name):\n",
    "            conv_1= tf.layers.batch_normalization(tf.nn.relu(tf.nn.bias_add(tf.nn.conv2d(input = input,filter=filter1, strides=conv_stride, padding=padding), bias1)))\n",
    "            conv_2= tf.layers.batch_normalization(tf.nn.relu(tf.nn.bias_add(tf.nn.conv2d(input = conv_1,filter=filter2, strides=conv_stride, padding=padding), bias2)))\n",
    "            if filter3 != None and bias3 != None:\n",
    "                conv_3 = tf.layers.batch_normalization(tf.nn.relu(tf.nn.bias_add(tf.nn.conv2d(input = conv_2,filter=filter3, strides=conv_stride, padding=padding), bias3)))\n",
    "                \n",
    "                max_pool, indicies = tf.nn.max_pool_with_argmax(conv_3, ksize=max_pooling_ksize,strides=(1,2,2,1), padding='VALID')\n",
    "            else:\n",
    "                max_pool, indicies = tf.nn.max_pool_with_argmax(conv_2, ksize=max_pooling_ksize,strides=(1,2,2,1), padding='VALID')\n",
    "            \n",
    "            if dropout:\n",
    "                return tf.nn.dropout(max_pool, keep_prob=1-dropout_prob), indicies\n",
    "            else:\n",
    "                return max_pool, indicies\n",
    "\n",
    "    def decoding_layer(self, input, indicies, filter1_shape, filter2_shape, name=None, filter3_shape=None, dropout=False):\n",
    "        with tf.name_scope(name):\n",
    "            upsample = Utils.unpool_with_argmax(input, indicies, name=name+\"Upsample\")\n",
    "            if filter3_shape != None:\n",
    "                deconv_1 = tf.layers.batch_normalization(tf.layers.conv2d(upsample, filter3_shape,(3,3),activation=tf.nn.relu, padding='same', kernel_initializer=tf.contrib.layers.variance_scaling_initializer()))\n",
    "                deconv_2 = tf.layers.batch_normalization(tf.layers.conv2d(deconv_1, filter2_shape,(3,3),activation=tf.nn.relu, padding='same',kernel_initializer=tf.contrib.layers.variance_scaling_initializer()))\n",
    "                max_pool =  tf.layers.batch_normalization(tf.layers.conv2d(deconv_2, filter1_shape,(3,3),activation=tf.nn.relu, padding='same', kernel_initializer=tf.contrib.layers.variance_scaling_initializer()))\n",
    "            else:\n",
    "                deconv_1 = tf.layers.batch_normalization(tf.layers.conv2d(upsample, filter2_shape,(3,3),activation=tf.nn.relu, padding='same',kernel_initializer=tf.contrib.layers.variance_scaling_initializer()))\n",
    "                max_pool =  tf.layers.batch_normalization(tf.layers.conv2d(deconv_1, filter1_shape,(3,3),activation=tf.nn.relu, padding='same', kernel_initializer=tf.contrib.layers.variance_scaling_initializer()))\n",
    "                \n",
    "            if dropout:\n",
    "                return tf.nn.dropout(max_pool, keep_prob=1-dropout_prob)\n",
    "            else:\n",
    "                return max_pool\n",
    "\n",
    "    "
   ]
  },
  {
   "cell_type": "code",
   "execution_count": 3,
   "metadata": {
    "ExecuteTime": {
     "end_time": "2017-12-16T17:42:41.702665Z",
     "start_time": "2017-12-16T17:42:33.126302Z"
    }
   },
   "outputs": [
    {
     "name": "stdout",
     "output_type": "stream",
     "text": [
      "input_shape: (2, 11, 15, 512), ind: (2, 11, 15, 512)\n",
      "input_shape: (2, 22, 30, 512), ind: (2, 22, 30, 512)\n",
      "input_shape: (2, 44, 60, 256), ind: (2, 44, 60, 256)\n",
      "input_shape: (2, 88, 120, 128), ind: (2, 88, 120, 128)\n",
      "input_shape: (2, 176, 240, 64), ind: (2, 176, 240, 64)\n",
      "INFO:tensorflow:Restoring parameters from ..\\saved_models\\segnet_no_mfb\\segnet_model.ckpt\n"
     ]
    }
   ],
   "source": [
    "segnet = SegNet(load_model=True, baysian=False, use_mfb=False)"
   ]
  },
  {
   "cell_type": "code",
   "execution_count": 4,
   "metadata": {
    "ExecuteTime": {
     "end_time": "2017-12-16T17:42:41.756171Z",
     "start_time": "2017-12-16T17:42:41.702665Z"
    }
   },
   "outputs": [],
   "source": [
    "images, annotations = Utils.load_test_data()"
   ]
  },
  {
   "cell_type": "code",
   "execution_count": 7,
   "metadata": {
    "ExecuteTime": {
     "end_time": "2017-12-16T17:43:15.352659Z",
     "start_time": "2017-12-16T17:43:15.110982Z"
    }
   },
   "outputs": [],
   "source": [
    "prediciton = segnet.predict(images[1:3])"
   ]
  },
  {
   "cell_type": "code",
   "execution_count": 8,
   "metadata": {
    "ExecuteTime": {
     "end_time": "2017-12-16T17:43:21.723907Z",
     "start_time": "2017-12-16T17:43:21.523407Z"
    }
   },
   "outputs": [
    {
     "data": {
      "image/png": "[encoded data removed]",
      "text/plain": [
       "<matplotlib.figure.Figure at 0x1f4f516e160>"
      ]
     },
     "metadata": {},
     "output_type": "display_data"
    }
   ],
   "source": [
    "plt.imshow(prediciton[1])\n",
    "plt.savefig(\"segnet_no_mfb_test_im_3.pdf\")"
   ]
  },
  {
   "cell_type": "code",
   "execution_count": null,
   "metadata": {
    "ExecuteTime": {
     "start_time": "2017-12-12T07:58:59.632Z"
    }
   },
   "outputs": [],
   "source": [
    "segnet.train_model(True)"
   ]
  },
  {
   "cell_type": "code",
   "execution_count": null,
   "metadata": {
    "ExecuteTime": {
     "end_time": "2017-12-10T20:00:57.616186Z",
     "start_time": "2017-12-10T20:00:57.602665Z"
    }
   },
   "outputs": [],
   "source": [
    "plt.imshow(prediciton[2])"
   ]
  },
  {
   "cell_type": "code",
   "execution_count": null,
   "metadata": {
    "ExecuteTime": {
     "end_time": "2017-12-13T19:20:05.301487Z",
     "start_time": "2017-12-13T19:20:05.157337Z"
    }
   },
   "outputs": [],
   "source": [
    "plt.imshow(prediciton[0][0])"
   ]
  },
  {
   "cell_type": "code",
   "execution_count": null,
   "metadata": {
    "ExecuteTime": {
     "end_time": "2017-12-13T19:20:32.434473Z",
     "start_time": "2017-12-13T19:20:15.072787Z"
    }
   },
   "outputs": [],
   "source": [
    "annos = np.argmax(Utils.load_annotations(test_anno_path), axis=-1)"
   ]
  },
  {
   "cell_type": "code",
   "execution_count": null,
   "metadata": {
    "ExecuteTime": {
     "end_time": "2017-12-10T13:41:15.132145Z",
     "start_time": "2017-12-10T13:41:14.923612Z"
    }
   },
   "outputs": [],
   "source": [
    "plt.imshow(annos[1])"
   ]
  },
  {
   "cell_type": "code",
   "execution_count": null,
   "metadata": {
    "ExecuteTime": {
     "end_time": "2017-12-09T15:24:23.936001Z",
     "start_time": "2017-12-09T13:00:04.794420Z"
    }
   },
   "outputs": [],
   "source": [
    "segnet = SegNet(load_model=False, baysian=True)"
   ]
  }
 ],
 "metadata": {
  "kernelspec": {
   "display_name": "Python 3",
   "language": "python",
   "name": "python3"
  },
  "language_info": {
   "codemirror_mode": {
    "name": "ipython",
    "version": 3
   },
   "file_extension": ".py",
   "mimetype": "text/x-python",
   "name": "python",
   "nbconvert_exporter": "python",
   "pygments_lexer": "ipython3",
   "version": "3.6.0"
  },
  "toc": {
   "nav_menu": {},
   "number_sections": true,
   "sideBar": true,
   "skip_h1_title": false,
   "toc_cell": false,
   "toc_position": {},
   "toc_section_display": "block",
   "toc_window_display": false
  }
 },
 "nbformat": 4,
 "nbformat_minor": 2
}
